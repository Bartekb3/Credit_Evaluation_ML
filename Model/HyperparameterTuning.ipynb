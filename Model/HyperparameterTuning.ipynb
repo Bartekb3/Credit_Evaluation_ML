{
 "cells": [
  {
   "cell_type": "code",
   "execution_count": 1,
   "metadata": {},
   "outputs": [],
   "source": [
    "import pandas as pd\n",
    "import numpy as np\n",
    "\n",
    "import matplotlib.pyplot as plt\n",
    "import seaborn as sns\n",
    "\n",
    "from sklearn.pipeline import Pipeline\n",
    "from sklearn.compose import ColumnTransformer\n",
    "from sklearn.preprocessing import StandardScaler, FunctionTransformer, MinMaxScaler\n",
    "from sklearn.base import BaseEstimator, TransformerMixin\n",
    "\n",
    "from sklearn.model_selection import train_test_split, GridSearchCV\n",
    "from sklearn.metrics import accuracy_score, confusion_matrix,balanced_accuracy_score,f1_score\n",
    "from sklearn.dummy import DummyClassifier\n",
    "from sklearn.linear_model import LogisticRegression\n",
    "from sklearn.tree import DecisionTreeClassifier, plot_tree\n",
    "from sklearn.svm import SVC\n",
    "from sklearn.naive_bayes import GaussianNB\n",
    "from sklearn.ensemble import RandomForestClassifier,GradientBoostingClassifier,VotingClassifier,StackingClassifier\n",
    "from imblearn.over_sampling import SMOTE\n",
    "from xgboost import XGBClassifier\n",
    "from imblearn.pipeline import Pipeline as ImbPipeline\n",
    "from sklearn.svm import SVC\n",
    "from sklearn.feature_selection import RFE\n",
    "from sklearn.neural_network import MLPClassifier\n",
    "from sklearn.svm import SVC\n",
    "from sklearn.neighbors import KNeighborsClassifier\n",
    "from sklearn.model_selection import KFold\n",
    "from sklearn.feature_selection import SelectKBest\n",
    "from sklearn.feature_selection import f_classif\n",
    "from matplotlib import pyplot\n",
    "import warnings\n",
    "warnings.filterwarnings('ignore')\n",
    "#from skopt import BayesSearchCV\n",
    "#from skopt.space import Real, Categorical, Integer"
   ]
  },
  {
   "cell_type": "markdown",
   "metadata": {},
   "source": [
    "# Funkcje pomocnicze"
   ]
  },
  {
   "cell_type": "code",
   "execution_count": 2,
   "metadata": {},
   "outputs": [],
   "source": [
    "def income_metric(y,yp,credit,intrestRate = None):\n",
    "    if (intrestRate == None):\n",
    "        gain_max = sum(credit)\n",
    "        gain = sum(np.multiply(credit,(yp==y)))\n",
    "        return gain/gain_max\n",
    "    else:\n",
    "        gain_max = sum(credit*intrestRate)\n",
    "        gain = sum(np.multiply((yp==y),intrestRate,credit))\n",
    "        return gain/gain_max\n",
    "def gain_part(y,yp,credit):\n",
    "    y = np.matrix(y).transpose()\n",
    "    gain = [0 for _ in range(len(y))]\n",
    "    for i in range(len(y)):\n",
    "        if (yp[i]==0):\n",
    "            if (y[i]==0):\n",
    "                gain[i] = 1\n",
    "            else:\n",
    "                gain[i] = -1\n",
    "    gain =  sum(np.multiply(credit,gain))\n",
    "    return gain\n",
    "def income_metric2(y,yp,credit,intrestRate = None):\n",
    "    gain_max = sum(np.multiply(credit,(y==0)))\n",
    "    y = np.matrix(y).transpose()\n",
    "    gain = [0 for _ in range(len(y))]\n",
    "    for i in range(len(y)):\n",
    "        if (yp[i]==0):\n",
    "            if (y[i]==0):\n",
    "                gain[i] = 1\n",
    "            else:\n",
    "                gain[i] = -1\n",
    "    gain =  sum(np.multiply(credit,gain))\n",
    "    return gain/gain_max\n",
    "def fuse_model(pipl1,pipl2,X_tr,X_ts,y_tr,y_ts):\n",
    "#     X_tr.AMT_INCOME_TOTAL <= 300000\n",
    "    X_model1_tr = X_tr.loc[X_tr.AMT_INCOME_TOTAL <= 200000]\n",
    "    y_model1_tr = y_tr.loc[X_tr.AMT_INCOME_TOTAL <= 200000]\n",
    "    X_model1_ts = X_ts.loc[X_ts.AMT_INCOME_TOTAL <= 200000]\n",
    "    y_model1_ts = y_ts.loc[X_ts.AMT_INCOME_TOTAL <= 200000]\n",
    "\n",
    "    X_model2_tr = X_tr.loc[X_tr.AMT_INCOME_TOTAL > 200000]\n",
    "    y_model2_tr = y_tr.loc[X_tr.AMT_INCOME_TOTAL > 200000]\n",
    "    X_model2_ts = X_ts.loc[X_ts.AMT_INCOME_TOTAL > 200000]\n",
    "    y_model2_ts = y_ts.loc[X_ts.AMT_INCOME_TOTAL > 200000]\n",
    "    \n",
    "\n",
    "    pipl1.fit(X_model1_tr,y_model1_tr)\n",
    "    y_model1_pred = pipl1.predict(X_model1_ts)\n",
    "\n",
    "    print(\"______ MODEL 1 ______\")\n",
    "\n",
    "    conf_matrix = confusion_matrix(y_model1_ts, y_model1_pred)\n",
    "    print(\"Confusion Matrix:\")\n",
    "    print(conf_matrix)\n",
    "    balanced_acc = balanced_accuracy_score(y_model1_ts, y_model1_pred)\n",
    "    print(\"Balanced Accuracy:\", balanced_acc)\n",
    "    income_per2 = income_metric2(y_model1_ts, y_model1_pred,X_model1_ts.AMT_CREDIT)\n",
    "    print(\"Income2 %: \", income_per2)\n",
    "    print(\"Income2 base %: \",\n",
    "            gain_part(y_model1_ts, [0 for _ in range(len(y_model1_ts))],X_model1_ts.AMT_CREDIT)/sum(np.multiply(X_model1_ts.AMT_CREDIT,(y_model1_ts==0))))\n",
    "    print('Money: ', gain_part(y_model1_ts, y_model1_pred,X_model1_ts.AMT_CREDIT))\n",
    "    print('Money max: ', sum(np.multiply(X_model1_ts.AMT_CREDIT,(y_model1_ts==0))))\n",
    "\n",
    "\n",
    "    pipl2.fit(X_model2_tr,y_model2_tr)\n",
    "    y_model2_pred = pipl2.predict(X_model2_ts)\n",
    "\n",
    "    print(\"______ MODEL 2 ______\")\n",
    "\n",
    "\n",
    "    conf_matrix2 = confusion_matrix(y_model2_ts, y_model2_pred)\n",
    "    print(\"Confusion Matrix:\")\n",
    "    print(conf_matrix2)\n",
    "    balanced_acc2 = balanced_accuracy_score(y_model2_ts, y_model2_pred)\n",
    "    print(\"Balanced Accuracy:\", balanced_acc2)\n",
    "    income_per22 = income_metric2(y_model2_ts, y_model2_pred,X_model2_ts.AMT_CREDIT)\n",
    "    print(\"Income2 %: \", income_per22)\n",
    "    print(\"Income2 base %: \",\n",
    "            gain_part(y_model2_ts, [0 for _ in range(len(y_model2_ts))],X_model2_ts.AMT_CREDIT)/sum(np.multiply(X_model2_ts.AMT_CREDIT,(y_model2_ts==0))))\n",
    "    print('Money: ', gain_part(y_model2_ts, y_model2_pred,X_model2_ts.AMT_CREDIT))\n",
    "    print('Money max: ', sum(np.multiply(X_model2_ts.AMT_CREDIT,(y_model2_ts==0))))\n",
    "\n",
    "    print(\"______ MODEL FUSED ______\")\n",
    "\n",
    "    gain_max = sum(np.multiply(X_model1_ts.AMT_CREDIT,(y_model1_ts==0))) + sum(np.multiply(X_model2_ts.AMT_CREDIT,(y_model2_ts==0)))\n",
    "    gain = gain_part(y_model1_ts, y_model1_pred,X_model1_ts.AMT_CREDIT) + gain_part(y_model2_ts, y_model2_pred,X_model2_ts.AMT_CREDIT)\n",
    "\n",
    "    conf_matrix_fuse = conf_matrix + conf_matrix2\n",
    "    print(\"Confusion Matrix fused:\")\n",
    "    print(conf_matrix_fuse)\n",
    "    # balanced_acc2 = balanced_accuracy_score(y_model2_ts, y_model2_pred)\n",
    "    # print(\"Balanced Accuracy:\", balanced_acc2)\n",
    "    print(\"Income2 fusef %: \", gain/gain_max)\n",
    "\n",
    "       "
   ]
  },
  {
   "cell_type": "code",
   "execution_count": 3,
   "metadata": {},
   "outputs": [],
   "source": [
    "def pipe(model):\n",
    "    return Pipeline([\n",
    "    ('transformer', StandardScaler_22(['id','AMT_CREDIT','AMT_ANNUITY','AMT_GOODS_PRICE'])),\n",
    "    ('dropper',Dropper(['id'])),\n",
    "    ('minmax',MinMaxTransformer(['HOUR_APPR_PROCESS_START'])),\n",
    "    (\"estimator\", model)\n",
    "    ])"
   ]
  },
  {
   "cell_type": "markdown",
   "metadata": {},
   "source": [
    "# Przygotowanie danych"
   ]
  },
  {
   "cell_type": "code",
   "execution_count": 8,
   "metadata": {},
   "outputs": [
    {
     "name": "stdout",
     "output_type": "stream",
     "text": [
      "Wejściowy rozmiar:  14000\n",
      "Wyjściowy rozmiar:  13860\n"
     ]
    }
   ],
   "source": [
    "df = pd.read_csv(\".\\credit_PRO.csv\")\n",
    "\n",
    "data = df['AMT_INCOME_TOTAL']\n",
    "print('Wejściowy rozmiar: ', data.shape[0])\n",
    "upper_lim = data.quantile(.99)\n",
    "df = df[( df.AMT_INCOME_TOTAL< upper_lim)]\n",
    "print('Wyjściowy rozmiar: ', df.shape[0])\n",
    "\n",
    "X = df.drop([\"TARGET\"],axis = 1)\n",
    "y = df[\"TARGET\"]\n",
    "\n",
    "X_train, X_test, y_train, y_test = train_test_split(X, y, test_size=0.2, random_state=42, stratify=y)"
   ]
  },
  {
   "cell_type": "code",
   "execution_count": 9,
   "metadata": {},
   "outputs": [
    {
     "data": {
      "text/plain": [
       "-2350.6807458803123"
      ]
     },
     "execution_count": 9,
     "metadata": {},
     "output_type": "execute_result"
    }
   ],
   "source": [
    "goods_price_impute = X_train['AMT_GOODS_PRICE'].dropna().median()\n",
    "days_employed_impute = df.loc[df[\"DAYS_EMPLOYED\"]<0].DAYS_EMPLOYED.mean()\n",
    "days_employed_impute"
   ]
  },
  {
   "cell_type": "code",
   "execution_count": 10,
   "metadata": {},
   "outputs": [],
   "source": [
    "class StandardScaler_22(BaseEstimator, TransformerMixin):\n",
    "    def __init__(self,classes):\n",
    "        self.classes = classes\n",
    "        self.std_scaler = [StandardScaler() for _ in range(len(classes))]\n",
    "\n",
    "    def fit(self,df,y= None):\n",
    "        for i,col in enumerate(self.classes):\n",
    "            self.std_scaler[i].fit(np.log1p(df[[col]]))\n",
    "        return self\n",
    "    \n",
    "    def transform(self,X,y= None):\n",
    "    \n",
    "        Xc = X.copy()\n",
    "\n",
    "        Xc.loc[X['CNT_CHILDREN'] > 4, 'CNT_CHILDREN'] = 4\n",
    "\n",
    "        Xc['AMT_GOODS_PRICE'] = Xc['AMT_GOODS_PRICE'].fillna(goods_price_impute)\n",
    "        Xc['Rate'] = ((np.ceil(Xc.AMT_CREDIT/Xc.AMT_ANNUITY) * Xc.AMT_ANNUITY) - Xc.AMT_CREDIT)/Xc.AMT_GOODS_PRICE\n",
    "        # Xc['Rate_Count'] = np.ceil(Xc.AMT_CREDIT/Xc.AMT_ANNUITY)\n",
    "\n",
    "        Xc['BAD_DAYS_EMPLOYED'] = (Xc['DAYS_EMPLOYED'] > 0).astype(int)\n",
    "        Xc.loc[Xc[\"DAYS_EMPLOYED\"]>0,'DAYS_EMPLOYED'] = days_employed_impute    \n",
    "       \n",
    "        Xc['DAYS_EMPLOYED'] = -Xc.DAYS_EMPLOYED\n",
    "        Xc['DAYS_BIRTH'] = -Xc.DAYS_BIRTH\n",
    "\n",
    "        Xc[' AMT_CREDIT / AMT_ANNUITY'] = Xc.AMT_CREDIT / Xc.AMT_ANNUITY\n",
    "        Xc[ ' AMT_ANNUITY / DAYS_BIRTH'] = Xc.AMT_ANNUITY / Xc.DAYS_BIRTH\n",
    "        Xc[' AMT_GOODS_PRICE / AMT_INCOME_TOTAL'] =Xc.AMT_GOODS_PRICE / Xc.AMT_INCOME_TOTAL\n",
    "        Xc[' AMT_GOODS_PRICE / AMT_CREDIT'] = Xc.AMT_GOODS_PRICE / Xc.AMT_CREDIT\n",
    "\n",
    "        for i,col in enumerate(self.classes):\n",
    "            Xc[col] = self.std_scaler[i].transform(np.log1p(Xc[[col]]))\n",
    "\n",
    "        # Xc[' AMT_CREDIT / AMT_ANNUITY'] = Xc.AMT_CREDIT / Xc.AMT_ANNUITY\n",
    "        # Xc[ ' AMT_ANNUITY / DAYS_BIRTH'] = Xc.AMT_ANNUITY / Xc.DAYS_BIRTH\n",
    "        # Xc[' AMT_GOODS_PRICE / AMT_INCOME_TOTAL'] =Xc.AMT_GOODS_PRICE / Xc.AMT_INCOME_TOTAL\n",
    "        # Xc[' AMT_GOODS_PRICE / AMT_CREDIT'] = Xc.AMT_GOODS_PRICE / Xc.AMT_CREDIT\n",
    "\n",
    "        # # w RandomForestClassifier nie pomogło\n",
    "        # s = StandardScaler()\n",
    "        # Xc['DAYS_REGISTRATION'] = np.sqrt(-Xc['DAYS_REGISTRATION'])\n",
    "        # s.fit(Xc[['DAYS_REGISTRATION']])\n",
    "        # Xc['DAYS_REGISTRATION'] = s.transform(Xc[['DAYS_REGISTRATION']])\n",
    "\n",
    "\n",
    "        # s1 = StandardScaler()\n",
    "        # Xc['DAYS_BIRTH'] = -Xc['DAYS_BIRTH']\n",
    "        # s1.fit(Xc[['DAYS_BIRTH']])\n",
    "        # Xc['DAYS_BIRTH'] = s1.transform(Xc[['DAYS_BIRTH']])\n",
    "\n",
    "        # Xc['BAD_DAYS_EMPLOYED'] = (Xc['DAYS_EMPLOYED'] > 0).astype(int)\n",
    "        # Xc.loc[Xc[\"DAYS_EMPLOYED\"]>0,'DAYS_EMPLOYED'] = days_employed_impute\n",
    "\n",
    "        # Xc['DAYS_EMPLOYED'] = np.log1p(-Xc.DAYS_EMPLOYED)\n",
    "        # Xc['DAYS_BIRTH'] = np.log1p(-Xc.DAYS_BIRTH)\n",
    "        return Xc\n"
   ]
  },
  {
   "cell_type": "code",
   "execution_count": 11,
   "metadata": {},
   "outputs": [],
   "source": [
    "class Dropper(BaseEstimator, TransformerMixin):\n",
    "    def __init__(self,classes):\n",
    "        self.classes = classes\n",
    "\n",
    "    def fit(self, X, y=None):\n",
    "        return self\n",
    "    \n",
    "    def transform(self, X, y=None):\n",
    "        Xc = X.copy()\n",
    "        return Xc.drop(self.classes, axis=1)\n",
    "\n",
    "\n",
    "class FeatureAdd(BaseEstimator, TransformerMixin):\n",
    "    def fit(self, X, y=None):\n",
    "            return self\n",
    "    \n",
    "    def transform(self, X, y=None):\n",
    "        Xc = X.copy()\n",
    "        Xc['Rate'] = ((np.ceil(X.AMT_CREDIT/X.AMT_ANNUITY) * X.AMT_ANNUITY) - X.AMT_CREDIT)\n",
    "        return Xc\n",
    "    \n",
    "class MinMaxTransformer(BaseEstimator, TransformerMixin):\n",
    "    def __init__(self,classes):\n",
    "         self.scaler = [MinMaxScaler() for _ in range(len(X))]\n",
    "         self.classes = classes\n",
    "         \n",
    "    def fit(self, X, y=None):\n",
    "            for i,col in enumerate(self.classes):\n",
    "                self.scaler[i].fit(X[[col]])\n",
    "            return self\n",
    "    \n",
    "    def transform(self, X, y=None):\n",
    "        Xc = X.copy()\n",
    "        for i,col in enumerate(self.classes):\n",
    "             Xc[col] = self.scaler[i].transform(Xc[[col]])\n",
    "        return Xc"
   ]
  },
  {
   "cell_type": "markdown",
   "metadata": {},
   "source": [
    "# Cross Walidacja"
   ]
  },
  {
   "cell_type": "code",
   "execution_count": 22,
   "metadata": {},
   "outputs": [],
   "source": [
    "def cv(n,pipel):\n",
    "    # zwraca średnią balanced accuracy, średni income, variancje\n",
    "    ans = []\n",
    "    kf = KFold(n_splits=n,shuffle=True,random_state=17)\n",
    "    kf.get_n_splits(df)\n",
    "    # pipline - musi być ustalony\n",
    "    for i, (train_index, test_index) in enumerate(kf.split(X)):\n",
    "        df_cv_train = df.iloc[train_index]\n",
    "        goods_price_impute = df_cv_train['AMT_GOODS_PRICE'].dropna().median()\n",
    "        days_employed_impute = df_cv_train.loc[df_cv_train[\"DAYS_EMPLOYED\"]<0].DAYS_EMPLOYED.mean()\n",
    "        X_train = df_cv_train.drop([\"TARGET\"],axis = 1)\n",
    "        y_train = df_cv_train[\"TARGET\"]\n",
    "\n",
    "        df_cv_test = df.iloc[test_index]\n",
    "        X_test = df_cv_test.drop([\"TARGET\"],axis = 1)\n",
    "        y_test = df_cv_test[\"TARGET\"]\n",
    "\n",
    "        \n",
    "        pipel.fit(X_train,y_train)\n",
    "        y_pred = pipel.predict(X_test)\n",
    "        # conf_matrix = confusion_matrix(y_test, y_pred)\n",
    "        \n",
    "        balanced_acc = balanced_accuracy_score(y_test, y_pred)\n",
    "        f1_scr = f1_score(y_test,y_pred)\n",
    "        income_per2 = income_metric2(y_test, y_pred,X_test.AMT_CREDIT)\n",
    "        ans.append([balanced_acc,income_per2,f1_scr])\n",
    "    return [\n",
    "        np.matrix(ans)[:,0].mean(),\n",
    "        np.matrix(ans)[:,1].mean(),\n",
    "        np.matrix(ans)[:,2].mean()]\n"
   ]
  },
  {
   "cell_type": "code",
   "execution_count": 13,
   "metadata": {},
   "outputs": [],
   "source": [
    "def cv1(n,pipel):\n",
    "    # zwraca średnią balanced accuracy, średni income, variancje\n",
    "    ans = []\n",
    "    kf = KFold(n_splits=n,shuffle=True,random_state=17)\n",
    "    kf.get_n_splits(df)\n",
    "    # pipline - musi być ustalony\n",
    "    for i, (train_index, test_index) in enumerate(kf.split(X)):\n",
    "        df_cv_train = df.iloc[train_index]\n",
    "        goods_price_impute = df_cv_train['AMT_GOODS_PRICE'].dropna().median()\n",
    "        days_employed_impute = df_cv_train.loc[df_cv_train[\"DAYS_EMPLOYED\"]<0].DAYS_EMPLOYED.mean()\n",
    "        X_train = df_cv_train.drop([\"TARGET\"],axis = 1)\n",
    "        y_train = df_cv_train[\"TARGET\"]\n",
    "\n",
    "        df_cv_test = df.iloc[test_index]\n",
    "        X_test = df_cv_test.drop([\"TARGET\"],axis = 1)\n",
    "        y_test = df_cv_test[\"TARGET\"]\n",
    "\n",
    "        \n",
    "        pipel.fit(X_train,y_train)\n",
    "        y_pred = pipel.predict(X_test)\n",
    "        # conf_matrix = confusion_matrix(y_test, y_pred)\n",
    "        \n",
    "        balanced_acc = balanced_accuracy_score(y_test, y_pred)\n",
    "        f1_scr = f1_score(y_test,y_pred)\n",
    "        income_per2 = income_metric2(y_test, y_pred,X_test.AMT_CREDIT)\n",
    "        ans.append([balanced_acc,f1_scr,income_per2])\n",
    "\n",
    "    return ans"
   ]
  },
  {
   "cell_type": "code",
   "execution_count": 14,
   "metadata": {},
   "outputs": [],
   "source": [
    "def crossval_models_performance(models,names,metric):\n",
    "    results = []\n",
    "    for model in models:\n",
    "        a =cv1(10,model)\n",
    "        if metric == \"balanced_accuracy\":\n",
    "            results.append([sublist[0] for sublist in a])\n",
    "        elif metric == \"f1_score\":\n",
    "            results.append([sublist[1] for sublist in a])\n",
    "        else:\n",
    "            results.append([sublist[2] for sublist in a])\n",
    "    pyplot.boxplot(results, labels=names, showmeans=True)\n",
    "    pyplot.title(metric)\n",
    "    pyplot.show()"
   ]
  },
  {
   "cell_type": "markdown",
   "metadata": {},
   "source": [
    "# Dostrajanie hiperparametrów\n",
    "zdecydowaliśmy się na sprawdzenie optymalnych kombinacji hiperparametrów dla następujących modeli:\n",
    "- GradinetBoostingClassiffier\n",
    "- XGBClassifier\n",
    "- RandomForestClassifier\n",
    "- DecisionTreeClassifier\n",
    "- KNN\n",
    "\n",
    "Zapisywaliśmy kombinacje parametrów dla których wartości metryk: f1-score, balance accuracy i income były najlesze. Dodatkowo kombinacje dla ktorej srednia tych metryk była najlepsza"
   ]
  },
  {
   "cell_type": "code",
   "execution_count": 15,
   "metadata": {},
   "outputs": [],
   "source": [
    "from itertools import product,permutations\n",
    "\n",
    "def all_combinations(lists):\n",
    "    return list(product(*lists))"
   ]
  },
  {
   "cell_type": "markdown",
   "metadata": {},
   "source": [
    "## Gradient Boosting Classifier"
   ]
  },
  {
   "cell_type": "code",
   "execution_count": null,
   "metadata": {},
   "outputs": [],
   "source": [
    "# Przykładowe listy\n",
    "learning_rate = [0.05,0.1,0.2,0.3,0.5]\n",
    "n_estimators = [20,40,50,70]\n",
    "max_depth = [4,5,6,7]\n",
    "min_samples_split = [2,3,4,6,8]\n",
    "          \n",
    "combinations = all_combinations([learning_rate, n_estimators, max_depth,min_samples_split])\n",
    "\n",
    "max_income = 0\n",
    "max_combination = []\n",
    "max_ballanced = 0\n",
    "max_ballanced_combination = []\n",
    "max_f1 = 0\n",
    "max_f1_combination = []\n",
    "max_mean = 0\n",
    "max_mean_combination = []\n",
    "# Wyświetlenie wyników\n",
    "for combination in combinations:\n",
    "    \n",
    "    p = ImbPipeline([\n",
    "        ('transformer', StandardScaler_22(['id','AMT_CREDIT','AMT_ANNUITY','AMT_GOODS_PRICE'])),\n",
    "    ('dropper',Dropper(['id'])),\n",
    "    ('minmax',MinMaxTransformer(['HOUR_APPR_PROCESS_START'])),\n",
    "    ('oversampler', SMOTE(random_state=17)), # opcjonalnie\n",
    "    (\"estimator\",  GradientBoostingClassifier(learning_rate=combination[0],\n",
    "                                      n_estimators=combination[1],\n",
    "                                      max_depth=combination[2],\n",
    "                                      min_samples_split=combination[3]))\n",
    "    ])\n",
    "\n",
    "    income = cv(3,p)\n",
    "    mean_q = sum(income)/3\n",
    "    if (max_ballanced<income[0]):\n",
    "        max_ballanced_combination = combination\n",
    "        max_ballanced = income[0]\n",
    "    if (max_income<income[1]):\n",
    "        max_combination = combination\n",
    "        max_income = income[1]\n",
    "    if (max_f1<income[2]):\n",
    "        max_f1_combination = combination\n",
    "        max_f1 = income[2]\n",
    "    if (max_mean<mean_q):\n",
    "        max_mean_combination = combination\n",
    "        max_mean = mean_q"
   ]
  },
  {
   "cell_type": "code",
   "execution_count": null,
   "metadata": {},
   "outputs": [],
   "source": [
    "# Best params for XGBClassifeir(learning_rate,n_estimators,max_depth)\n",
    "Max income: 0.7962982263479281(0.05, 70, 4)\n",
    "Max balanced acc: 0.5368657581981985(0.5, 40, 7)\n",
    "Max f1: 0.20540481125557442(0.5, 40, 7)\n",
    "Max avg params: 0.4954747458692658(0.5, 50, 7)\n",
    "# Best params for XGBClassifeir(learning_rate,n_estimators,max_depth) ('oversampler', SMOTE(random_state=17))\n",
    "Max income: 0.7773332050443459(0.2, 70, 4)\n",
    "Max balanced acc: 0.5789753842487112(0.05, 20, 6)\n",
    "Max f1: 0.3235852096976221(0.05, 20, 4)\n",
    "Max avg params: 0.5210806851128272(0.1, 40, 4)\n",
    "# Best params for XGBClassifeir(learning_rate,n_estimators,max_depth,min_samples_split) ('oversampler', SMOTE(random_state=17))\n",
    "Max income: 0.7764526618728564(0.2, 70, 5, 3)\n",
    "Max balanced acc: 0.5813368275771257(0.05, 40, 4, 2)\n",
    "Max f1: 0.3233226357303855(0.05, 20, 5, 6)\n",
    "Max avg params: 0.5235690496246521(0.05, 40, 7, 4)\n"
   ]
  },
  {
   "cell_type": "code",
   "execution_count": null,
   "metadata": {},
   "outputs": [],
   "source": [
    "m1 = pipe(GradientBoostingClassifier(learning_rate=0.5,\n",
    "                                      n_estimators=40,\n",
    "                                      max_depth=7\n",
    "                                      ))\n",
    "xgb2 = pipe(GradientBoostingClassifier(learning_rate=combination[0],\n",
    "                                      n_estimators=combination[1],\n",
    "                                      max_depth=combination[2],\n",
    "                                      min_samples_split=combination[3]))\n",
    "xgb3 = pipe(GradientBoostingClassifier(learning_rate=combination[0],\n",
    "                                      n_estimators=combination[1],\n",
    "                                      max_depth=combination[2],\n",
    "                                      min_samples_split=combination[3]))\n",
    "crossval_models_performance([xgb1,xgb2,xgb3],['xgb1','xgb2','xgb3'],'income')\n",
    "crossval_models_performance([xgb1,xgb2,xgb3],['xgb1','xgb2','xgb3'],'balanced_accuracy')\n",
    "crossval_models_performance([xgb1,xgb2,xgb3],['xgb1','xgb2','xgb3'],'f1_score')\n"
   ]
  },
  {
   "cell_type": "markdown",
   "metadata": {},
   "source": [
    "## XGBClassifier"
   ]
  },
  {
   "cell_type": "code",
   "execution_count": null,
   "metadata": {},
   "outputs": [],
   "source": [
    "learning_rate= [0.05,0.1, 0.2, 0.4, 0.5]\n",
    "n_estimators= [20, 40, 50, 70]\n",
    "max_depth= [3, 5, 7, 9]\n",
    "booster = ['gbtree', 'gblinear', 'dart']\n",
    "\n",
    "combinations = all_combinations([learning_rate, n_estimators, max_depth,booster])\n",
    "\n",
    "max_income = 0\n",
    "max_f1 = 0\n",
    "max_balanced_acc = 0\n",
    "max_avg = 0\n",
    "max_combination_avg = []\n",
    "max_combination_inc = []\n",
    "max_combination_f1 = []\n",
    "max_combination_bal = []\n",
    "max_conf = None\n",
    "\n",
    "# Wyświetlenie wyników\n",
    "for combination in combinations:\n",
    "    \n",
    "    p = Pipeline([\n",
    "    ('transformer', StandardScaler_22(['id','AMT_CREDIT','AMT_ANNUITY','AMT_GOODS_PRICE'])),\n",
    "    ('dropper',Dropper(['id'])),\n",
    "    ('minmax',MinMaxTransformer(['HOUR_APPR_PROCESS_START'])),\n",
    "    (\"estimator\", XGBClassifier(learning_rate=combination[0],\n",
    "                                      n_estimators=combination[1],\n",
    "                                      max_depth=combination[2],\n",
    "                                      booster=combination[3]))\n",
    "    ])\n",
    "    \n",
    "    l = cv(3,p)\n",
    "    print(l)\n",
    "    f1 = l[3]\n",
    "    income = l[1]\n",
    "    balacc = l[0]\n",
    "    if (max_income<income):\n",
    "        max_combination_inc = combination\n",
    "        max_income = income\n",
    "        # max_conf = confusion_matrix(y_test,y_pred)\n",
    "    if (max_f1 < f1):\n",
    "        max_combination_f1 = combination\n",
    "        max_f1 = f1\n",
    "    if (max_balanced_acc<balacc):\n",
    "        max_combination_bal = combination\n",
    "        max_balanced_acc = balacc\n",
    "    if(max_avg < (f1+balacc+income)/3):\n",
    "        max_combination_avg = combination\n",
    "        max_avg = (f1+balacc+income)/3  "
   ]
  },
  {
   "cell_type": "code",
   "execution_count": null,
   "metadata": {},
   "outputs": [],
   "source": [
    "# Best params for XGBClassifeir\n",
    "Max income: 0.7961055336003041(0.1, 40, 5, 'gbtree')\n",
    "Max f1: 0.17949518838033854(0.5, 70, 7, 'gbtree')\n",
    "Max balanced acc: 0.5342556664912362(0.5, 70, 5, 'gbtree')\n",
    "Max avg params: 0.49473761647878894(0.5, 70, 5, 'gbtree')"
   ]
  },
  {
   "cell_type": "code",
   "execution_count": 32,
   "metadata": {},
   "outputs": [
    {
     "data": {
      "image/png": "[encoded data removed]",
      "text/plain": [
       "<Figure size 640x480 with 1 Axes>"
      ]
     },
     "metadata": {},
     "output_type": "display_data"
    },
    {
     "data": {
      "image/png": "[encoded data removed]",
      "text/plain": [
       "<Figure size 640x480 with 1 Axes>"
      ]
     },
     "metadata": {},
     "output_type": "display_data"
    },
    {
     "data": {
      "image/png": "[encoded data removed]",
      "text/plain": [
       "<Figure size 640x480 with 1 Axes>"
      ]
     },
     "metadata": {},
     "output_type": "display_data"
    }
   ],
   "source": [
    "xgb1 = pipe(XGBClassifier(learning_rate=0.1,n_estimators=40, max_depth=5,booster='gbtree'))\n",
    "xgb2 = pipe(XGBClassifier(learning_rate=0.5,n_estimators=70, max_depth=7,booster='gbtree'))\n",
    "xgb3 = pipe(XGBClassifier(learning_rate=0.5,n_estimators=70, max_depth=5,booster='gbtree'))\n",
    "crossval_models_performance([xgb1,xgb2,xgb3],['xgb1','xgb2','xgb3'],'income')\n",
    "crossval_models_performance([xgb1,xgb2,xgb3],['xgb1','xgb2','xgb3'],'balanced_accuracy')\n",
    "crossval_models_performance([xgb1,xgb2,xgb3],['xgb1','xgb2','xgb3'],'f1_score')\n"
   ]
  },
  {
   "cell_type": "markdown",
   "metadata": {},
   "source": [
    "## Decision Tree Classifier"
   ]
  },
  {
   "cell_type": "code",
   "execution_count": null,
   "metadata": {},
   "outputs": [],
   "source": [
    "criterion= ['gini', 'entropy']\n",
    "splitter= ['best', 'random']\n",
    "max_depth= [None, 5, 10, 20]\n",
    "class_weight= [None, 'balanced'] \n",
    "\n",
    "combinations = all_combinations([criterion,splitter,max_depth,class_weight])\n",
    "\n",
    "max_income = 0\n",
    "max_f1 = 0\n",
    "max_balanced_acc = 0\n",
    "max_avg = 0\n",
    "max_combination_avg = []\n",
    "max_combination_inc = []\n",
    "max_combination_f1 = []\n",
    "max_combination_bal = []\n",
    "max_conf = None\n",
    "\n",
    "# Wyświetlenie wyników\n",
    "for combination in combinations:\n",
    "    \n",
    "    p = Pipeline([\n",
    "    ('transformer', StandardScaler_22(['id','AMT_CREDIT','AMT_ANNUITY','AMT_GOODS_PRICE'])),\n",
    "    ('dropper',Dropper(['id'])),\n",
    "    ('minmax',MinMaxTransformer(['HOUR_APPR_PROCESS_START'])),\n",
    "    (\"estimator\", DecisionTreeClassifier(criterion=combination[0],splitter=combination[1],max_depth=combination[2],class_weight=combination[3]))\n",
    "    ])\n",
    "    \n",
    "    l = cv(3,p)\n",
    "    print(l)\n",
    "    f1 = l[3]\n",
    "    income = l[1]\n",
    "    balacc = l[0]\n",
    "    if (max_income<income):\n",
    "        max_combination_inc = combination\n",
    "        max_income = income\n",
    "    if (max_f1 < f1):\n",
    "        max_combination_f1 = combination\n",
    "        max_f1 = f1\n",
    "    if (max_balanced_acc<balacc):\n",
    "        max_combination_bal = combination\n",
    "        max_balanced_acc = balacc\n",
    "    if(max_avg < (f1+balacc+income)/3):\n",
    "        max_combination_avg = combination\n",
    "        max_avg = (f1+balacc+income)/3  "
   ]
  },
  {
   "cell_type": "code",
   "execution_count": null,
   "metadata": {},
   "outputs": [],
   "source": [
    "# Best Params for decision tree\n",
    "Max income: 0.7958939734400726('entropy', 'best', 5, None)\n",
    "Max f1: 0.33636465694638734('gini', 'best', 5, 'balanced')\n",
    "Max balanced acc: 0.5889511897489553('gini', 'best', 5, 'balanced')\n",
    "Max avg params: 0.5025365209119901('gini', 'best', 5, 'balanced')"
   ]
  },
  {
   "cell_type": "code",
   "execution_count": 33,
   "metadata": {},
   "outputs": [
    {
     "data": {
      "image/png": "[encoded data removed]",
      "text/plain": [
       "<Figure size 640x480 with 1 Axes>"
      ]
     },
     "metadata": {},
     "output_type": "display_data"
    },
    {
     "data": {
      "image/png": "[encoded data removed]",
      "text/plain": [
       "<Figure size 640x480 with 1 Axes>"
      ]
     },
     "metadata": {},
     "output_type": "display_data"
    },
    {
     "data": {
      "image/png": "[encoded data removed]",
      "text/plain": [
       "<Figure size 640x480 with 1 Axes>"
      ]
     },
     "metadata": {},
     "output_type": "display_data"
    }
   ],
   "source": [
    "tree1 = pipe(DecisionTreeClassifier(criterion='gini',splitter='best',max_depth=5,class_weight='balanced'))\n",
    "tree2 = pipe(DecisionTreeClassifier(criterion='gini',splitter='best',max_depth=5,class_weight=None))\n",
    "crossval_models_performance([tree1,tree2],['cw balanced','cw none'],'income')\n",
    "crossval_models_performance([tree1,tree2],['cw balanced','cw none'],'balanced_accuracy')\n",
    "crossval_models_performance([tree1,tree2],['cw balanced','cw none'],'f1_score')\n"
   ]
  },
  {
   "cell_type": "markdown",
   "metadata": {},
   "source": [
    "## Random forest"
   ]
  },
  {
   "cell_type": "code",
   "execution_count": null,
   "metadata": {},
   "outputs": [],
   "source": [
    "max_depth = [4,5,6,7]\n",
    "criterion = ['gini', 'entropy', 'log_loss']\n",
    "ccp_alpha = [0,0.05,0.01,0.02]\n",
    "min_samples_split = [20,40,60,80,100]\n",
    "\n",
    "combinations = all_combinations([max_depth, criterion, ccp_alpha,min_samples_split])\n",
    "\n",
    "max_income = 0\n",
    "max_f1 = 0\n",
    "max_balanced_acc = 0\n",
    "max_avg = 0\n",
    "max_combination_avg = []\n",
    "max_combination_inc = []\n",
    "max_combination_f1 = []\n",
    "max_combination_bal = []\n",
    "max_conf = None\n",
    "\n",
    "# Wyświetlenie wyników\n",
    "for combination in combinations:\n",
    "    \n",
    "    p = Pipeline([\n",
    "    ('transformer', StandardScaler_22(['id','AMT_CREDIT','AMT_ANNUITY','AMT_GOODS_PRICE'])),\n",
    "    ('dropper',Dropper(['id'])),\n",
    "    ('minmax',MinMaxTransformer(['HOUR_APPR_PROCESS_START'])),\n",
    "    (\"estimator\",   RandomForestClassifier(random_state=17,\n",
    "                    max_depth=combination[0],\n",
    "                    criterion=combination[1],\n",
    "                    ccp_alpha=combination[2],\n",
    "                    min_samples_split=combination[3]))\n",
    "    ])\n",
    "    \n",
    "    l = cv(3,p)\n",
    "    print(l)\n",
    "    f1 = l[3]\n",
    "    income = l[1]\n",
    "    balacc = l[0]\n",
    "    if (max_income<income):\n",
    "        max_combination_inc = combination\n",
    "        max_income = income\n",
    "        # max_conf = confusion_matrix(y_test,y_pred)\n",
    "    if (max_f1 < f1):\n",
    "        max_combination_f1 = combination\n",
    "        max_f1 = f1\n",
    "    if (max_balanced_acc<balacc):\n",
    "        max_combination_bal = combination\n",
    "        max_balanced_acc = balacc\n",
    "    if(max_avg < (f1+balacc+income)/3):\n",
    "        max_combination_avg = combination\n",
    "        max_avg = (f1+balacc+income)/3  "
   ]
  },
  {
   "cell_type": "code",
   "execution_count": null,
   "metadata": {},
   "outputs": [],
   "source": [
    "\n",
    "# Best Params for RandomForestClassifier(max_depth,criterion,ccp_alpha,min_samples_split)\n",
    "Max income: 0.7961848954584916(7, 'gini', 0, 20)\n",
    "Max balanced acc: 0.500409900908282(7, 'gini', 0, 20)\n",
    "Max f1: 0.001637589155118597(7, 'gini', 0, 20)\n",
    "Max avg params: 0.43274412850729743(7, 'gini', 0, 20)\n",
    "# Best Params for RandomForestClassifier(max_depth,criterion,ccp_alpha,min_samples_split) z ('oversampler', SMOTE(random_state=17)),\n",
    "Max income: 0.6300046179231326(7, 'gini', 0, 20)\n",
    "Max balanced acc: 0.582352122077646(6, 'entropy', 0.01, 60)\n",
    "Max f1: 0.3287183485662723(4, 'entropy', 0, 20)\n",
    "Max avg params: 0.5125992848570776(7, 'entropy', 0.01, 80)\n"
   ]
  },
  {
   "cell_type": "code",
   "execution_count": 18,
   "metadata": {},
   "outputs": [
    {
     "data": {
      "image/png": "[encoded data removed]",
      "text/plain": [
       "<Figure size 640x480 with 1 Axes>"
      ]
     },
     "metadata": {},
     "output_type": "display_data"
    },
    {
     "data": {
      "image/png": "[encoded data removed]",
      "text/plain": [
       "<Figure size 640x480 with 1 Axes>"
      ]
     },
     "metadata": {},
     "output_type": "display_data"
    },
    {
     "data": {
      "image/png": "[encoded data removed]",
      "text/plain": [
       "<Figure size 640x480 with 1 Axes>"
      ]
     },
     "metadata": {},
     "output_type": "display_data"
    }
   ],
   "source": [
    "m1 = pipe(RandomForestClassifier(random_state=17,\n",
    "                    max_depth=7,\n",
    "                    criterion='gini',\n",
    "                    ccp_alpha=0,\n",
    "                    min_samples_split=20))\n",
    "m2 =  pipe(RandomForestClassifier(random_state=17,\n",
    "                    max_depth=6,\n",
    "                    criterion='entropy',\n",
    "                    ccp_alpha=0.01,\n",
    "                    min_samples_split=60))\n",
    "m3 =  pipe(RandomForestClassifier(random_state=17,\n",
    "                    max_depth=4,\n",
    "                    criterion='entropy',\n",
    "                    ccp_alpha=0,\n",
    "                    min_samples_split=20))\n",
    "m4 =  pipe(RandomForestClassifier(random_state=17,\n",
    "                    max_depth=7,\n",
    "                    criterion='entropy',\n",
    "                    ccp_alpha=0.01,\n",
    "                    min_samples_split=80))\n",
    "crossval_models_performance([m1,m2,m3,m4],['m1','m2','m3','m4'],'income')\n",
    "crossval_models_performance([m1,m2,m3,m4],['m1','m2','m3','m4'],'balanced_accuracy')\n",
    "crossval_models_performance([m1,m2,m3,m4],['m1','m2','m3','m4'],'f1_score')"
   ]
  },
  {
   "cell_type": "markdown",
   "metadata": {},
   "source": [
    "## KNN"
   ]
  },
  {
   "cell_type": "code",
   "execution_count": null,
   "metadata": {},
   "outputs": [],
   "source": [
    "n_neighbors = np.arange(1,30,1)\n",
    "weights = ['uniform', 'distance']\n",
    "algorithm = ['auto', 'ball_tree', 'kd_tree', 'brute']\n",
    "leaf_size = [4,5,6,8]\n",
    "\n",
    "combinations = all_combinations([n_neighbors, weights, algorithm,leaf_size])\n",
    "\n",
    "max_income = 0\n",
    "max_f1 = 0\n",
    "max_balanced_acc = 0\n",
    "max_avg = 0\n",
    "max_combination_avg = []\n",
    "max_combination_inc = []\n",
    "max_combination_f1 = []\n",
    "max_combination_bal = []\n",
    "max_conf = None\n",
    "\n",
    "# Wyświetlenie wyników\n",
    "for combination in combinations:\n",
    "    \n",
    "    p = Pipeline([\n",
    "    ('transformer', StandardScaler_22(['id','AMT_CREDIT','AMT_ANNUITY','AMT_GOODS_PRICE'])),\n",
    "    ('dropper',Dropper(['id'])),\n",
    "    ('minmax',MinMaxTransformer(['HOUR_APPR_PROCESS_START'])),\n",
    "    (\"estimator\",    KNeighborsClassifier(n_neighbors=combination[0],\n",
    "                                          weights=combination[1],\n",
    "                                          algorithm=combination[2],\n",
    "                                          leaf_size=combination[3]))\n",
    "      ])\n",
    "    \n",
    "    l = cv(3,p)\n",
    "    print(l)\n",
    "    f1 = l[3]\n",
    "    income = l[1]\n",
    "    balacc = l[0]\n",
    "    if (max_income<income):\n",
    "        max_combination_inc = combination\n",
    "        max_income = income\n",
    "        # max_conf = confusion_matrix(y_test,y_pred)\n",
    "    if (max_f1 < f1):\n",
    "        max_combination_f1 = combination\n",
    "        max_f1 = f1\n",
    "    if (max_balanced_acc<balacc):\n",
    "        max_combination_bal = combination\n",
    "        max_balanced_acc = balacc\n",
    "    if(max_avg < (f1+balacc+income)/3):\n",
    "        max_combination_avg = combination\n",
    "        max_avg = (f1+balacc+income)/3       "
   ]
  },
  {
   "cell_type": "code",
   "execution_count": null,
   "metadata": {},
   "outputs": [],
   "source": [
    "\n",
    "# Best Params for KNeighborsClassifier(n_neighbors,weights,algorithm,leaf_size)\n",
    "Max income: 0.7961308755748547(29, 'distance', 'auto', 4)\n",
    "Max balanced acc: 0.5134070288276609(4, 'distance', 'auto', 4)\n",
    "Max f1: 0.1940698401427854(1, 'uniform', 'auto', 4)\n",
    "Max avg params: 0.4657610505829702(4, 'distance', 'auto', 4)\n",
    "\n",
    "# Best Params for KNeighborsClassifier(n_neighbors,weights,algorithm,leaf_size) z ('oversampler', SMOTE(random_state=17)),\n",
    "Max income: 0.64859216561214(2, 'uniform', 'auto', 4)\n",
    "Max balanced acc: 0.541413660474508(25, 'uniform', 'auto', 4)\n",
    "Max f1: 0.2977986562164752(25, 'uniform', 'auto', 4)\n",
    "Max avg params: 0.4539609373857892(2, 'uniform', 'auto', 4)"
   ]
  },
  {
   "cell_type": "code",
   "execution_count": null,
   "metadata": {},
   "outputs": [],
   "source": [
    "m1 = pipe( KNeighborsClassifier(n_neighbors=2,\n",
    "                                          weights='uniform',\n",
    "                                          algorithm='auto',\n",
    "                                          leaf_size=4))\n",
    "m2 =  pipe(KNeighborsClassifier(n_neighbors=25,\n",
    "                                          weights='uniform',\n",
    "                                          algorithm='auto',\n",
    "                                          leaf_size=4))\n",
    "m3 =  pipe(KNeighborsClassifier(n_neighbors=1,\n",
    "                                          weights='uniform',\n",
    "                                          algorithm='auto',\n",
    "                                          leaf_size=4))\n",
    "m4 =  pipe(KNeighborsClassifier(n_neighbors=29,\n",
    "                                          weights='distance',\n",
    "                                          algorithm='auto',\n",
    "                                          leaf_size=4))\n",
    "m5 =  pipe(KNeighborsClassifier(n_neighbors=4,\n",
    "                                          weights='distance',\n",
    "                                          algorithm='auto',\n",
    "                                          leaf_size=4))\n",
    "crossval_models_performance([m1,m2,m3,m4,m5],['m1','m2','m3','m4','m5'],'income')\n",
    "crossval_models_performance([m1,m2,m3,m4,m5],['m1','m2','m3','m4','m5'],'balanced_accuracy')\n",
    "crossval_models_performance([m1,m2,m3,m4,m5],['m1','m2','m3','m4','m5'],'f1_score')"
   ]
  },
  {
   "cell_type": "markdown",
   "metadata": {},
   "source": [
    "# Stacking i voting"
   ]
  },
  {
   "cell_type": "code",
   "execution_count": null,
   "metadata": {},
   "outputs": [],
   "source": [
    "p1 = Pipeline([\n",
    "    ('transformer', StandardScaler_22(['id','AMT_CREDIT','AMT_ANNUITY','AMT_GOODS_PRICE'])),\n",
    "    ('minmax',MinMaxTransformer(['HOUR_APPR_PROCESS_START'])),\n",
    "    ('dropper',Dropper(['AMT_INCOME_TOTAL', 'AMT_ANNUITY', 'DAYS_EMPLOYED','id'])),\n",
    "    (\"estimator\", RandomForestClassifier(random_state=17))\n",
    "]) # mało odżucal\n",
    "p2 = Pipeline([\n",
    "    ('transformer', StandardScaler_2(['AMT_INCOME_TOTAL','AMT_GOODS_PRICE'])),\n",
    "    ('dropper',Dropper([ 'AMT_ANNUITY', 'DAYS_EMPLOYED', 'id'])),\n",
    "    (\"estimator\", DecisionTreeClassifier(random_state=17))\n",
    "]) # dużo odrzucł\n",
    "p3 = Pipeline([\n",
    "    ('transformer', StandardScaler_22(['AMT_INCOME_TOTAL','AMT_GOODS_PRICE'])),\n",
    "    ('minmax',MinMaxTransformer(['HOUR_APPR_PROCESS_START'])),\n",
    "    ('dropper',Dropper(['id'])),\n",
    "    (\"estimator\", SVC(kernel=\"sigmoid\", random_state=17, max_iter=3001, probability=True))\n",
    "]) # troche odrzucał\n",
    "p4 = Pipeline([\n",
    "        ('transformer', StandardScaler_22(['AMT_INCOME_TOTAL','AMT_GOODS_PRICE'])),\n",
    "        ('dropper',Dropper(['id'])),\n",
    "        (\"estimator\", KNeighborsClassifier(n_neighbors=16))\n",
    "    ]) # nie wiem\n",
    "p5 = Pipeline([\n",
    "            ('transformer', StandardScaler_22(['id','AMT_CREDIT','AMT_ANNUITY','AMT_GOODS_PRICE'])),\n",
    "            ('minmax',MinMaxTransformer(['HOUR_APPR_PROCESS_START'])),\n",
    "            ('dropper',Dropper(['AMT_INCOME_TOTAL', 'AMT_ANNUITY', 'DAYS_EMPLOYED', 'id'])),\n",
    "            (\"estimator\", GradientBoostingClassifier(learning_rate=0.3,n_estimators=30,random_state=17))\n",
    "        ]) # nie wiem\n",
    "\n",
    "estimators = [(\"p1\",p1), (\"p2\",p2),(\"p3\",p3),(\"p4\",p4)]\n",
    "pf = Pipeline([['clf3',\n",
    "                 VotingClassifier(estimators=estimators,\n",
    "                                  voting='soft',\n",
    "                                  weights=[0.3,0.3,0.1,0.2])]])\n",
    "\n",
    "pf.fit(X_train,y_train)\n",
    "y_pred = pf.predict(X_test)\n",
    "\n",
    "conf_matrix = confusion_matrix(y_test, y_pred)\n",
    "print(conf_matrix)\n",
    "balanced_acc = balanced_accuracy_score(y_test, y_pred)\n",
    "print(\"Balanced Accuracy:\", balanced_acc)\n",
    "accuracy = accuracy_score(y_test, y_pred)\n",
    "print(\"Accuracy:\", accuracy)\n",
    "income_per2 = income_metric2(y_test, y_pred,X_test.AMT_CREDIT)\n",
    "print(\"Income2 %: \", income_per2)"
   ]
  },
  {
   "cell_type": "code",
   "execution_count": null,
   "metadata": {},
   "outputs": [],
   "source": [
    "clf = StackingClassifier(estimators=estimators, final_estimator=LogisticRegression())\n",
    "clf.fit(X_train, y_train)\n",
    "\n",
    "clf.fit(X_train,y_train)\n",
    "y_pred = clf.predict(X_test)\n",
    "\n",
    "conf_matrix = confusion_matrix(y_test, y_pred)\n",
    "print(conf_matrix)\n",
    "balanced_acc = balanced_accuracy_score(y_test, y_pred)\n",
    "print(\"Balanced Accuracy:\", balanced_acc)\n",
    "accuracy = accuracy_score(y_test, y_pred)\n",
    "print(\"Accuracy:\", accuracy)\n",
    "income_per2 = income_metric2(y_test, y_pred,X_test.AMT_CREDIT)\n",
    "print(\"Income2 %: \", income_per2)"
   ]
  },
  {
   "cell_type": "code",
   "execution_count": 21,
   "metadata": {},
   "outputs": [
    {
     "data": {
      "text/plain": [
       "242"
      ]
     },
     "execution_count": 21,
     "metadata": {},
     "output_type": "execute_result"
    }
   ],
   "source": [
    "comb = []\n",
    "for a in np.arange(0,0.90,0.1):\n",
    "    for b in np.arange(0,0.9,0.1):\n",
    "        for c in np.arange(0,0.9,0.1):\n",
    "            for d in np.arange(0,0.9,0.1):\n",
    "                    if (a+b+c+d==1):\n",
    "                        comb.append([a,b,c,d])\n",
    "len(comb)"
   ]
  },
  {
   "cell_type": "code",
   "execution_count": null,
   "metadata": {},
   "outputs": [],
   "source": [
    "\n",
    "max_income = 0\n",
    "max_combination = []\n",
    "max_ballanced = 0\n",
    "max_ballanced_combination = []\n",
    "max_f1 = 0\n",
    "max_f1_combination = []\n",
    "max_mean = 0\n",
    "max_mean_combination = []\n",
    "# Wyświetlenie wyników\n",
    "for combination in comb:\n",
    "\n",
    "    p = Pipeline([['clf3',\n",
    "                 VotingClassifier(estimators=estimators,\n",
    "                                  voting='soft',\n",
    "                                  weights=combination)]])\n",
    "\n",
    "\n",
    "    income = cv(3,p)\n",
    "    mean_q = sum(income)/3\n",
    "    if (max_ballanced<income[0]):\n",
    "        max_ballanced_combination = combination\n",
    "        max_ballanced = income[0]\n",
    "    if (max_income<income[1]):\n",
    "        max_combination = combination\n",
    "        max_income = income[1]\n",
    "    if (max_f1<income[2]):\n",
    "        max_f1_combination = combination\n",
    "        max_f1 = income[2]\n",
    "    if (max_mean<mean_q):\n",
    "        max_mean_combination = combination\n",
    "        max_mean = mean_q"
   ]
  },
  {
   "cell_type": "code",
   "execution_count": null,
   "metadata": {},
   "outputs": [],
   "source": []
  },
  {
   "cell_type": "markdown",
   "metadata": {},
   "source": [
    "# Porównanie modeli"
   ]
  }
 ],
 "metadata": {
  "kernelspec": {
   "display_name": "Python 3",
   "language": "python",
   "name": "python3"
  },
  "language_info": {
   "codemirror_mode": {
    "name": "ipython",
    "version": 3
   },
   "file_extension": ".py",
   "mimetype": "text/x-python",
   "name": "python",
   "nbconvert_exporter": "python",
   "pygments_lexer": "ipython3",
   "version": "3.12.2"
  }
 },
 "nbformat": 4,
 "nbformat_minor": 2
}
