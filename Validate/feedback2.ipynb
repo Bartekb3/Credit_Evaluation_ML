{
 "cells": [
  {
   "cell_type": "markdown",
   "metadata": {},
   "source": [
    "## Walidacja KM2 - Inżynieria Cech\n",
    "\n",
    "Techniczne:\n",
    "1. Proponuje dodać do importów:\n",
    "\n",
    "    import warnings\n",
    "    warnings.filterwarnings('ignore')\n",
    "\n",
    "    Wtedy będą ingnorowane błędy i kod będzie bardziej przejrzysty.\n",
    "\n",
    "Związane z kodem:\n",
    "1. Dobry pomysł ze sprawdzaniem zbalasowanej skuteczności za pomocą funkcji balanced_accuracy_score(y_test, y_pred), możecie także sprawdzać inne metryki ewaluacji np. dla modelu SVC wywoływać funkcję classification_report(y_test, y_pred) wyniki będą ładnie widoczne (w sumie to chybe tylko tej nie używacie). Warto jest wywoływać ten raport dla każdego modelu.\n",
    "2. Możecie przetestować też inne modele niż regresja liniowa (są wgrane importy ale w kodzie nie widzę żeby były zaimplementowane inne modele, także nwm).\n",
    "3. Tak samo w markdownie Feature engineering mówicie o tworzeniu nowych kolumn (cech), ale w kodzie nie widze żeby były tworzeone (ablo jestem ślepy)"
   ]
  }
 ],
 "metadata": {
  "language_info": {
   "name": "python"
  }
 },
 "nbformat": 4,
 "nbformat_minor": 2
}
