{
 "cells": [
  {
   "cell_type": "markdown",
   "metadata": {},
   "source": [
    "## Walidacja ML\n",
    "## Walidacja eksploracyjnej analizy danych \n",
    "\n",
    "1. Proponuje założyć githuba, ułatwi to zachowanie hierachii plików oraz prace zarówno dla zespółu modelarzy jak i walidatorów, którzy będą mieli dostęp do najnowszych wersji kodu.\n",
    "2. Brak opisów i wniosków odnośnie tego co przedstawiają wykresy, co wnoszą dane wykresy do analizy i co można wywnioskować z tych wykresów.\n",
    "3. Brak wniosków o potencjalych rozkładach zmiennych, że np. zmienne AMT_CREDIT, AMT_ANNUITY, AMT_GOODS_PRICE, AMT_INCOME_TOTAL przed zlogarytmowaniem mogą mieć rozkład gamma, a po zlogarytmowaniu przypominają rozkłady normalne.\n",
    "4. Po wywołaniu metody info() widać, że w zmiennej AMT_GOODS_PRICE występują braki, można je wypełnić np medianą.\n",
    "5. W macierzy korelacji można dodać wartości, a nie tylko kolory. Jest to w miarę mała macierz, ponieważ nie ma dużo zmiennych, więc powinny się zmieścić."
   ]
  }
 ],
 "metadata": {
  "language_info": {
   "name": "python"
  }
 },
 "nbformat": 4,
 "nbformat_minor": 2
}
