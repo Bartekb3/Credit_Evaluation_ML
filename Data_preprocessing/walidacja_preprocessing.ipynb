{
 "cells": [
  {
   "cell_type": "markdown",
   "metadata": {},
   "source": [
    "# Walidacja Preprocessingu KM2"
   ]
  },
  {
   "cell_type": "markdown",
   "metadata": {},
   "source": [
    "## ogólne"
   ]
  },
  {
   "cell_type": "markdown",
   "metadata": {},
   "source": [
    "- wyznaczanie baseline przed preprocessingiem danych chyba nie daje najbardziej miarowajnych efektów, warto byłoby wyznaczyć go po obróbce danych\n",
    "- do oceny tego czy kolumna nadaje sie do pozostawienia można wykorzystać testy typu SelectKBest, RFE itd nie tylko \"na logike\""
   ]
  },
  {
   "cell_type": "markdown",
   "metadata": {},
   "source": [
    "## zmienne numeryczne"
   ]
  },
  {
   "cell_type": "markdown",
   "metadata": {},
   "source": [
    "- warto sprawdzić czy nie opłaca się dodać nowych kolumn np. ilorazów lub iloczynów. Chociaż tych które na pierwszy rzut oka wydaja sie ciekawe, lub mechanicznie sprawdzic wszystkie możliwości w pętli\n",
    "- na podstawie kolumny day (jako ze widać ze w niktórych przedziałach stosunek 1 do 0 jest wiekszy niz w innych ale nie jest to zalezność którą łatwo można opisać funkcją) można dodać dodatkową kolumnę np \"goodtimeofyear\" 0 lub 1, która przyjmuje wartosc 1 jesli dzien jest z przedziału w ktorym jest wieksza szansa na złożenie depozytu. Warto chociaż przetestować"
   ]
  },
  {
   "cell_type": "markdown",
   "metadata": {},
   "source": [
    "## zmienne kategoryczne"
   ]
  },
  {
   "cell_type": "markdown",
   "metadata": {},
   "source": [
    "- warto zautomatyzować kodowanie zmiennych kategorycznych, jakiś transformer np"
   ]
  }
 ],
 "metadata": {
  "kernelspec": {
   "display_name": "Python 3",
   "language": "python",
   "name": "python3"
  },
  "language_info": {
   "codemirror_mode": {
    "name": "ipython",
    "version": 3
   },
   "file_extension": ".py",
   "mimetype": "text/x-python",
   "name": "python",
   "nbconvert_exporter": "python",
   "pygments_lexer": "ipython3",
   "version": "3.12.2"
  }
 },
 "nbformat": 4,
 "nbformat_minor": 2
}
